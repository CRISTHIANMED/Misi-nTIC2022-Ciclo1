{
 "cells": [
  {
   "cell_type": "code",
   "execution_count": 12,
   "metadata": {},
   "outputs": [
    {
     "name": "stdout",
     "output_type": "stream",
     "text": [
      "El valor para (2-2)*2*2*2 =  0\n",
      "El valor para 2+2-2-(2/2) =  1\n",
      "El valor para 2+2-2+2-2 =  2\n",
      "El valor para (2/2)+2-2+2 =  3\n"
     ]
    }
   ],
   "source": [
    "\"\"\"\n",
    "# Reto 1: Los cinco doses\n",
    "\n",
    "¿Sabrías obtener los números del 0 al 10 utilizando cinco 2's y \n",
    "los signos suma (+), resta (-), multiplicación (x) y división (/) y \n",
    "paréntesis? Te regalamos el ejemplo para el 0 y el resto deberás \n",
    "calcularlos tú mismo y comprobarlos en Python. ¡Ánimo!\n",
    "\n",
    "\"\"\"\n",
    "# Datos de entrada\n",
    "\n",
    "# Proceso\n",
    "V0 = (2-2)*2*2*2\n",
    "V1 = int(2+2-2-(2/2))\n",
    "V2 = 2+2-2+2-2\n",
    "V3 = int((2/2)+2-2+2)\n",
    "\n",
    "# Salida\n",
    "\n",
    "print(\"El valor para (2-2)*2*2*2 = \", V0)\n",
    "print(\"El valor para 2+2-2-(2/2) = \", V1)\n",
    "print(\"El valor para 2+2-2+2-2 = \", V2)\n",
    "print(\"El valor para (2/2)+2-2+2 = \", V3)\n"
   ]
  },
  {
   "cell_type": "code",
   "execution_count": 11,
   "metadata": {},
   "outputs": [
    {
     "name": "stdout",
     "output_type": "stream",
     "text": [
      "El valor del telefono entoces es 504.0\n"
     ]
    }
   ],
   "source": [
    "\"\"\"\n",
    "Reto 2: ¿Cuánto costará el teléfono?\n",
    "\n",
    "El IVA es un Impuesto sobre el Valor Añadido de un servicio o producto.\n",
    "En España disponemos de varios tipos de IVA (21%, 10% y 4%). \n",
    "Este impuesto grava sobre el precio neto del producto, es decir, el\n",
    "precio total o bruto corresponde al precio neto del producto más el \n",
    "impuesto que se le aplica.\n",
    "\n",
    "\"\"\"\n",
    "# Datos de entrada\n",
    "\n",
    "costo_movil = 420\n",
    "porcentaje = 20\n",
    "\n",
    "# Proceso\n",
    "\n",
    "total = costo_movil*(1+(20/100))\n",
    "\n",
    "# Salida\n",
    "\n",
    "print(\"El valor del telefono entoces es\", total)\n"
   ]
  }
 ],
 "metadata": {
  "interpreter": {
   "hash": "5b2d7a2a3ca82f3891e633daa31c74866ac2eef7c922ec174085508bbabbad44"
  },
  "kernelspec": {
   "display_name": "Python 3.10.3 64-bit",
   "language": "python",
   "name": "python3"
  },
  "language_info": {
   "codemirror_mode": {
    "name": "ipython",
    "version": 3
   },
   "file_extension": ".py",
   "mimetype": "text/x-python",
   "name": "python",
   "nbconvert_exporter": "python",
   "pygments_lexer": "ipython3",
   "version": "3.10.3"
  },
  "orig_nbformat": 4
 },
 "nbformat": 4,
 "nbformat_minor": 2
}
