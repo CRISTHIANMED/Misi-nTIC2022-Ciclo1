{
 "cells": [
  {
   "cell_type": "code",
   "execution_count": 12,
   "metadata": {},
   "outputs": [
    {
     "name": "stdout",
     "output_type": "stream",
     "text": [
      "El valor para (2-2)*2*2*2 =  0\n",
      "El valor para 2+2-2-(2/2) =  1\n",
      "El valor para 2+2-2+2-2 =  2\n",
      "El valor para (2/2)+2-2+2 =  3\n"
     ]
    }
   ],
   "source": [
    "\"\"\"\n",
    "# Reto 1: Los cinco doses\n",
    "\n",
    "¿Sabrías obtener los números del 0 al 10 utilizando cinco 2's y \n",
    "los signos suma (+), resta (-), multiplicación (x) y división (/) y \n",
    "paréntesis? Te regalamos el ejemplo para el 0 y el resto deberás \n",
    "calcularlos tú mismo y comprobarlos en Python. ¡Ánimo!\n",
    "\n",
    "\"\"\"\n",
    "# Datos de entrada\n",
    "\n",
    "# Proceso\n",
    "V0 = (2-2)*2*2*2\n",
    "V1 = int(2+2-2-(2/2))\n",
    "V2 = 2+2-2+2-2\n",
    "V3 = int((2/2)+2-2+2)\n",
    "\n",
    "# Salida\n",
    "\n",
    "print(\"El valor para (2-2)*2*2*2 = \", V0)\n",
    "print(\"El valor para 2+2-2-(2/2) = \", V1)\n",
    "print(\"El valor para 2+2-2+2-2 = \", V2)\n",
    "print(\"El valor para (2/2)+2-2+2 = \", V3)\n"
   ]
  },
  {
   "cell_type": "code",
   "execution_count": 19,
   "metadata": {},
   "outputs": [
    {
     "name": "stdout",
     "output_type": "stream",
     "text": [
      "El valor del telefono entoces es 504.0 euros\n"
     ]
    }
   ],
   "source": [
    "\"\"\"\n",
    "Reto 2: ¿Cuánto costará el teléfono?\n",
    "\n",
    "El IVA es un Impuesto sobre el Valor Añadido de un servicio o producto.\n",
    "En España disponemos de varios tipos de IVA (21%, 10% y 4%). \n",
    "Este impuesto grava sobre el precio neto del producto, es decir, el\n",
    "precio total o bruto corresponde al precio neto del producto más el \n",
    "impuesto que se le aplica.\n",
    "\n",
    "\"\"\"\n",
    "# Datos de entrada\n",
    "\n",
    "costo_movil = 420\n",
    "porcentaje = 20\n",
    "\n",
    "# Proceso\n",
    "\n",
    "total = costo_movil*(1+(20/100))\n",
    "\n",
    "# Salida\n",
    "\n",
    "print(\"El valor del telefono entoces es\", total , \"euros\")\n"
   ]
  },
  {
   "cell_type": "code",
   "execution_count": 23,
   "metadata": {},
   "outputs": [
    {
     "name": "stdout",
     "output_type": "stream",
     "text": [
      "Las vuetas dadas en 640 segundos es 1568.0 vueltas\n"
     ]
    }
   ],
   "source": [
    "\"\"\"\n",
    "Reto 3: ¿Cuántas vueltas dará un Fidget Spinner?\n",
    "\n",
    "El spinner es un juguete que cabe en la palma de la mano y consiste en \n",
    "tres aros unidos entre sí. En el centro hay un círculo que hace las \n",
    "veces de eje giratorio y permite que los aros de vueltas y más vueltas, \n",
    "como las hélices de un helicóptero.\n",
    "\n",
    "Sabemos que un Fidget Spinner da 147 vueltas por minuto ¿Cuántas vueltas \n",
    "dará en 640 segundos? Para este ejercicio se desprecia el rozamiento con \n",
    "el aire.\n",
    "\n",
    "\"\"\"\n",
    "# Datos de entrada\n",
    "\n",
    "vueltas_por_minuto = 147\n",
    "tiempo_segundos = 640\n",
    "\n",
    "# Proceso\n",
    "\n",
    "vueltas = vueltas_por_minuto*(tiempo_segundos/60)\n",
    "\n",
    "# Salida\n",
    "\n",
    "print(\"Las vuetas dadas en\", tiempo_segundos , \"segundos es\", vueltas , \"vueltas\")\n"
   ]
  },
  {
   "cell_type": "code",
   "execution_count": 25,
   "metadata": {},
   "outputs": [
    {
     "name": "stdout",
     "output_type": "stream",
     "text": [
      "Sobran 48 refrescos\n"
     ]
    }
   ],
   "source": [
    "\"\"\"\n",
    "Reto 4: ¿Cuántas latas de refresco sobran?\n",
    "\n",
    "Un acto de graduación es la ceremonia oficial que clausura el curso \n",
    "escolar y sirve de reconocimiento a los estudiantes que han completado \n",
    "los requisitos académicos de un plan de estudios y, por lo tanto, se \n",
    "han hecho merecedores del título académico.\n",
    "\n",
    "Para organizar una fiesta de graduación del instituto se compran 9 \n",
    "cajas de refrescos, donde cada caja contiene 24 latas de refrescos. \n",
    "Invitamos a 56 personas y queremos que todas y cada una de ellas consuman \n",
    "la misma cantidad de refrescos ¿Cuántas latas de refresco sobrarán?\n",
    "\n",
    "\"\"\"\n",
    "# Datos de entrada\n",
    "\n",
    "cajas_refresco = 9\n",
    "refrescos_caja = 24\n",
    "personas = 56\n",
    "\n",
    "\n",
    "# Proceso\n",
    "\n",
    "sobra = (cajas_refresco*refrescos_caja) % personas \n",
    "\n",
    "# Salida\n",
    "\n",
    "print(\"Sobran\", sobra , \"refrescos\")\n"
   ]
  }
 ],
 "metadata": {
  "interpreter": {
   "hash": "5b2d7a2a3ca82f3891e633daa31c74866ac2eef7c922ec174085508bbabbad44"
  },
  "kernelspec": {
   "display_name": "Python 3.10.3 64-bit",
   "language": "python",
   "name": "python3"
  },
  "language_info": {
   "codemirror_mode": {
    "name": "ipython",
    "version": 3
   },
   "file_extension": ".py",
   "mimetype": "text/x-python",
   "name": "python",
   "nbconvert_exporter": "python",
   "pygments_lexer": "ipython3",
   "version": "3.10.3"
  },
  "orig_nbformat": 4
 },
 "nbformat": 4,
 "nbformat_minor": 2
}
